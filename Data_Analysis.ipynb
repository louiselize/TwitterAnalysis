{
 "cells": [
  {
   "attachments": {},
   "cell_type": "markdown",
   "metadata": {},
   "source": [
    "# III. Data Analysis"
   ]
  },
  {
   "attachments": {},
   "cell_type": "markdown",
   "metadata": {},
   "source": [
    "Play with dataset!"
   ]
  },
  {
   "cell_type": "code",
   "execution_count": 1,
   "metadata": {},
   "outputs": [],
   "source": [
    "import pandas as pd\n",
    "import numpy as np\n",
    "import matplotlib.pyplot as plt\n",
    "import seaborn as sns"
   ]
  },
  {
   "cell_type": "code",
   "execution_count": 2,
   "metadata": {},
   "outputs": [],
   "source": [
    "filename = 'ukraine-query-tweets-feature-rt'"
   ]
  },
  {
   "cell_type": "code",
   "execution_count": 3,
   "metadata": {},
   "outputs": [
    {
     "data": {
      "text/html": [
       "<div>\n",
       "<style scoped>\n",
       "    .dataframe tbody tr th:only-of-type {\n",
       "        vertical-align: middle;\n",
       "    }\n",
       "\n",
       "    .dataframe tbody tr th {\n",
       "        vertical-align: top;\n",
       "    }\n",
       "\n",
       "    .dataframe thead th {\n",
       "        text-align: right;\n",
       "    }\n",
       "</style>\n",
       "<table border=\"1\" class=\"dataframe\">\n",
       "  <thead>\n",
       "    <tr style=\"text-align: right;\">\n",
       "      <th></th>\n",
       "      <th>user-followersCount</th>\n",
       "      <th>user-friendsCount</th>\n",
       "      <th>user-statusesCount</th>\n",
       "      <th>user-favouritesCount</th>\n",
       "      <th>user-listedCount</th>\n",
       "      <th>user-mediaCount</th>\n",
       "      <th>charCount</th>\n",
       "      <th>emojiCount</th>\n",
       "      <th>emojiCharRatio</th>\n",
       "      <th>wordCount</th>\n",
       "      <th>wordRatio</th>\n",
       "      <th>hashtagCount</th>\n",
       "      <th>user-totalActivity</th>\n",
       "      <th>user-tweetsPerYear</th>\n",
       "      <th>user-totalActivityPerYear</th>\n",
       "      <th>retweetCount</th>\n",
       "    </tr>\n",
       "  </thead>\n",
       "  <tbody>\n",
       "    <tr>\n",
       "      <th>0</th>\n",
       "      <td>417</td>\n",
       "      <td>863</td>\n",
       "      <td>21225</td>\n",
       "      <td>95100</td>\n",
       "      <td>0</td>\n",
       "      <td>44</td>\n",
       "      <td>140</td>\n",
       "      <td>0</td>\n",
       "      <td>0.000000</td>\n",
       "      <td>22</td>\n",
       "      <td>0.157143</td>\n",
       "      <td>0</td>\n",
       "      <td>116325</td>\n",
       "      <td>1513.997459</td>\n",
       "      <td>8297.562048</td>\n",
       "      <td>1</td>\n",
       "    </tr>\n",
       "    <tr>\n",
       "      <th>1</th>\n",
       "      <td>1920</td>\n",
       "      <td>2207</td>\n",
       "      <td>40311</td>\n",
       "      <td>78181</td>\n",
       "      <td>87</td>\n",
       "      <td>7865</td>\n",
       "      <td>279</td>\n",
       "      <td>0</td>\n",
       "      <td>0.000000</td>\n",
       "      <td>39</td>\n",
       "      <td>0.139785</td>\n",
       "      <td>0</td>\n",
       "      <td>118492</td>\n",
       "      <td>2825.718264</td>\n",
       "      <td>8306.045708</td>\n",
       "      <td>2</td>\n",
       "    </tr>\n",
       "    <tr>\n",
       "      <th>2</th>\n",
       "      <td>8</td>\n",
       "      <td>107</td>\n",
       "      <td>108</td>\n",
       "      <td>1410</td>\n",
       "      <td>1</td>\n",
       "      <td>6</td>\n",
       "      <td>287</td>\n",
       "      <td>0</td>\n",
       "      <td>0.000000</td>\n",
       "      <td>49</td>\n",
       "      <td>0.170732</td>\n",
       "      <td>0</td>\n",
       "      <td>1518</td>\n",
       "      <td>54.074074</td>\n",
       "      <td>760.041152</td>\n",
       "      <td>1</td>\n",
       "    </tr>\n",
       "    <tr>\n",
       "      <th>3</th>\n",
       "      <td>6794</td>\n",
       "      <td>1992</td>\n",
       "      <td>121200</td>\n",
       "      <td>105956</td>\n",
       "      <td>56</td>\n",
       "      <td>6948</td>\n",
       "      <td>26</td>\n",
       "      <td>0</td>\n",
       "      <td>0.000000</td>\n",
       "      <td>5</td>\n",
       "      <td>0.192308</td>\n",
       "      <td>0</td>\n",
       "      <td>227156</td>\n",
       "      <td>116722.955145</td>\n",
       "      <td>218765.013193</td>\n",
       "      <td>2</td>\n",
       "    </tr>\n",
       "    <tr>\n",
       "      <th>4</th>\n",
       "      <td>546</td>\n",
       "      <td>612</td>\n",
       "      <td>4880</td>\n",
       "      <td>18726</td>\n",
       "      <td>75</td>\n",
       "      <td>188</td>\n",
       "      <td>136</td>\n",
       "      <td>0</td>\n",
       "      <td>0.000000</td>\n",
       "      <td>20</td>\n",
       "      <td>0.147059</td>\n",
       "      <td>1</td>\n",
       "      <td>23606</td>\n",
       "      <td>342.340957</td>\n",
       "      <td>1656.004228</td>\n",
       "      <td>1</td>\n",
       "    </tr>\n",
       "    <tr>\n",
       "      <th>...</th>\n",
       "      <td>...</td>\n",
       "      <td>...</td>\n",
       "      <td>...</td>\n",
       "      <td>...</td>\n",
       "      <td>...</td>\n",
       "      <td>...</td>\n",
       "      <td>...</td>\n",
       "      <td>...</td>\n",
       "      <td>...</td>\n",
       "      <td>...</td>\n",
       "      <td>...</td>\n",
       "      <td>...</td>\n",
       "      <td>...</td>\n",
       "      <td>...</td>\n",
       "      <td>...</td>\n",
       "      <td>...</td>\n",
       "    </tr>\n",
       "    <tr>\n",
       "      <th>23261</th>\n",
       "      <td>899</td>\n",
       "      <td>954</td>\n",
       "      <td>3919</td>\n",
       "      <td>9586</td>\n",
       "      <td>3</td>\n",
       "      <td>632</td>\n",
       "      <td>107</td>\n",
       "      <td>0</td>\n",
       "      <td>0.000000</td>\n",
       "      <td>14</td>\n",
       "      <td>0.130841</td>\n",
       "      <td>0</td>\n",
       "      <td>13505</td>\n",
       "      <td>2100.491924</td>\n",
       "      <td>7238.362702</td>\n",
       "      <td>1</td>\n",
       "    </tr>\n",
       "    <tr>\n",
       "      <th>23262</th>\n",
       "      <td>702</td>\n",
       "      <td>793</td>\n",
       "      <td>15282</td>\n",
       "      <td>12355</td>\n",
       "      <td>0</td>\n",
       "      <td>512</td>\n",
       "      <td>137</td>\n",
       "      <td>0</td>\n",
       "      <td>0.000000</td>\n",
       "      <td>29</td>\n",
       "      <td>0.211679</td>\n",
       "      <td>0</td>\n",
       "      <td>27637</td>\n",
       "      <td>25125.810811</td>\n",
       "      <td>45439.211712</td>\n",
       "      <td>1</td>\n",
       "    </tr>\n",
       "    <tr>\n",
       "      <th>23263</th>\n",
       "      <td>4827</td>\n",
       "      <td>2880</td>\n",
       "      <td>81470</td>\n",
       "      <td>46838</td>\n",
       "      <td>53</td>\n",
       "      <td>216</td>\n",
       "      <td>97</td>\n",
       "      <td>0</td>\n",
       "      <td>0.000000</td>\n",
       "      <td>16</td>\n",
       "      <td>0.164948</td>\n",
       "      <td>0</td>\n",
       "      <td>128308</td>\n",
       "      <td>5620.213570</td>\n",
       "      <td>8851.336231</td>\n",
       "      <td>1</td>\n",
       "    </tr>\n",
       "    <tr>\n",
       "      <th>23264</th>\n",
       "      <td>367</td>\n",
       "      <td>2712</td>\n",
       "      <td>2699</td>\n",
       "      <td>2654</td>\n",
       "      <td>2</td>\n",
       "      <td>145</td>\n",
       "      <td>23</td>\n",
       "      <td>1</td>\n",
       "      <td>0.043478</td>\n",
       "      <td>4</td>\n",
       "      <td>0.173913</td>\n",
       "      <td>0</td>\n",
       "      <td>5353</td>\n",
       "      <td>493.554609</td>\n",
       "      <td>978.880261</td>\n",
       "      <td>3</td>\n",
       "    </tr>\n",
       "    <tr>\n",
       "      <th>23265</th>\n",
       "      <td>1739</td>\n",
       "      <td>2320</td>\n",
       "      <td>28764</td>\n",
       "      <td>3634</td>\n",
       "      <td>31</td>\n",
       "      <td>14281</td>\n",
       "      <td>120</td>\n",
       "      <td>0</td>\n",
       "      <td>0.000000</td>\n",
       "      <td>13</td>\n",
       "      <td>0.108333</td>\n",
       "      <td>3</td>\n",
       "      <td>32398</td>\n",
       "      <td>4052.049402</td>\n",
       "      <td>4563.979159</td>\n",
       "      <td>1</td>\n",
       "    </tr>\n",
       "  </tbody>\n",
       "</table>\n",
       "<p>23266 rows × 16 columns</p>\n",
       "</div>"
      ],
      "text/plain": [
       "       user-followersCount  user-friendsCount  user-statusesCount  \\\n",
       "0                      417                863               21225   \n",
       "1                     1920               2207               40311   \n",
       "2                        8                107                 108   \n",
       "3                     6794               1992              121200   \n",
       "4                      546                612                4880   \n",
       "...                    ...                ...                 ...   \n",
       "23261                  899                954                3919   \n",
       "23262                  702                793               15282   \n",
       "23263                 4827               2880               81470   \n",
       "23264                  367               2712                2699   \n",
       "23265                 1739               2320               28764   \n",
       "\n",
       "       user-favouritesCount  user-listedCount  user-mediaCount  charCount  \\\n",
       "0                     95100                 0               44        140   \n",
       "1                     78181                87             7865        279   \n",
       "2                      1410                 1                6        287   \n",
       "3                    105956                56             6948         26   \n",
       "4                     18726                75              188        136   \n",
       "...                     ...               ...              ...        ...   \n",
       "23261                  9586                 3              632        107   \n",
       "23262                 12355                 0              512        137   \n",
       "23263                 46838                53              216         97   \n",
       "23264                  2654                 2              145         23   \n",
       "23265                  3634                31            14281        120   \n",
       "\n",
       "       emojiCount  emojiCharRatio  wordCount  wordRatio  hashtagCount  \\\n",
       "0               0        0.000000         22   0.157143             0   \n",
       "1               0        0.000000         39   0.139785             0   \n",
       "2               0        0.000000         49   0.170732             0   \n",
       "3               0        0.000000          5   0.192308             0   \n",
       "4               0        0.000000         20   0.147059             1   \n",
       "...           ...             ...        ...        ...           ...   \n",
       "23261           0        0.000000         14   0.130841             0   \n",
       "23262           0        0.000000         29   0.211679             0   \n",
       "23263           0        0.000000         16   0.164948             0   \n",
       "23264           1        0.043478          4   0.173913             0   \n",
       "23265           0        0.000000         13   0.108333             3   \n",
       "\n",
       "       user-totalActivity  user-tweetsPerYear  user-totalActivityPerYear  \\\n",
       "0                  116325         1513.997459                8297.562048   \n",
       "1                  118492         2825.718264                8306.045708   \n",
       "2                    1518           54.074074                 760.041152   \n",
       "3                  227156       116722.955145              218765.013193   \n",
       "4                   23606          342.340957                1656.004228   \n",
       "...                   ...                 ...                        ...   \n",
       "23261               13505         2100.491924                7238.362702   \n",
       "23262               27637        25125.810811               45439.211712   \n",
       "23263              128308         5620.213570                8851.336231   \n",
       "23264                5353          493.554609                 978.880261   \n",
       "23265               32398         4052.049402                4563.979159   \n",
       "\n",
       "       retweetCount  \n",
       "0                 1  \n",
       "1                 2  \n",
       "2                 1  \n",
       "3                 2  \n",
       "4                 1  \n",
       "...             ...  \n",
       "23261             1  \n",
       "23262             1  \n",
       "23263             1  \n",
       "23264             3  \n",
       "23265             1  \n",
       "\n",
       "[23266 rows x 16 columns]"
      ]
     },
     "metadata": {},
     "output_type": "display_data"
    }
   ],
   "source": [
    "# Lire le fichier CSV et créer un dataframe\n",
    "tweets_df = pd.read_csv(filename +'.csv')\n",
    "display(tweets_df)"
   ]
  },
  {
   "attachments": {},
   "cell_type": "markdown",
   "metadata": {},
   "source": [
    "## 1. Basical analysis"
   ]
  },
  {
   "cell_type": "code",
   "execution_count": 4,
   "metadata": {},
   "outputs": [
    {
     "name": "stdout",
     "output_type": "stream",
     "text": [
      "<class 'pandas.core.frame.DataFrame'>\n",
      "RangeIndex: 23266 entries, 0 to 23265\n",
      "Data columns (total 16 columns):\n",
      " #   Column                     Non-Null Count  Dtype  \n",
      "---  ------                     --------------  -----  \n",
      " 0   user-followersCount        23266 non-null  int64  \n",
      " 1   user-friendsCount          23266 non-null  int64  \n",
      " 2   user-statusesCount         23266 non-null  int64  \n",
      " 3   user-favouritesCount       23266 non-null  int64  \n",
      " 4   user-listedCount           23266 non-null  int64  \n",
      " 5   user-mediaCount            23266 non-null  int64  \n",
      " 6   charCount                  23266 non-null  int64  \n",
      " 7   emojiCount                 23266 non-null  int64  \n",
      " 8   emojiCharRatio             23266 non-null  float64\n",
      " 9   wordCount                  23266 non-null  int64  \n",
      " 10  wordRatio                  23266 non-null  float64\n",
      " 11  hashtagCount               23266 non-null  int64  \n",
      " 12  user-totalActivity         23266 non-null  int64  \n",
      " 13  user-tweetsPerYear         23266 non-null  float64\n",
      " 14  user-totalActivityPerYear  23266 non-null  float64\n",
      " 15  retweetCount               23266 non-null  int64  \n",
      "dtypes: float64(4), int64(12)\n",
      "memory usage: 2.8 MB\n"
     ]
    }
   ],
   "source": [
    "tweets_df.info()"
   ]
  },
  {
   "cell_type": "code",
   "execution_count": 5,
   "metadata": {},
   "outputs": [
    {
     "name": "stdout",
     "output_type": "stream",
     "text": [
      "       retweetCount\n",
      "count  23266.000000\n",
      "mean      22.648027\n",
      "std      139.916614\n",
      "min        1.000000\n",
      "25%        1.000000\n",
      "50%        2.000000\n",
      "75%        7.000000\n",
      "max     4891.000000\n"
     ]
    }
   ],
   "source": [
    "print(tweets_df[['retweetCount']].describe())\n"
   ]
  },
  {
   "cell_type": "code",
   "execution_count": 6,
   "metadata": {},
   "outputs": [
    {
     "data": {
      "text/plain": [
       "<AxesSubplot:xlabel='retweetCount'>"
      ]
     },
     "execution_count": 6,
     "metadata": {},
     "output_type": "execute_result"
    },
    {
     "data": {
      "image/png": "[encoded data removed]",
      "text/plain": [
       "<Figure size 432x288 with 1 Axes>"
      ]
     },
     "metadata": {
      "needs_background": "light"
     },
     "output_type": "display_data"
    }
   ],
   "source": [
    "sns.boxplot(x=tweets_df.retweetCount)"
   ]
  },
  {
   "cell_type": "code",
   "execution_count": 7,
   "metadata": {},
   "outputs": [
    {
     "data": {
      "text/plain": [
       "<AxesSubplot:xlabel='retweetCount', ylabel='Count'>"
      ]
     },
     "execution_count": 7,
     "metadata": {},
     "output_type": "execute_result"
    },
    {
     "data": {
      "image/png": "[encoded data removed]",
      "text/plain": [
       "<Figure size 432x288 with 1 Axes>"
      ]
     },
     "metadata": {
      "needs_background": "light"
     },
     "output_type": "display_data"
    }
   ],
   "source": [
    "sns.histplot(x=tweets_df.retweetCount)\n"
   ]
  },
  {
   "cell_type": "code",
   "execution_count": 8,
   "metadata": {},
   "outputs": [
    {
     "data": {
      "image/png": "[encoded data removed]",
      "text/plain": [
       "<Figure size 432x288 with 1 Axes>"
      ]
     },
     "metadata": {
      "needs_background": "light"
     },
     "output_type": "display_data"
    }
   ],
   "source": [
    "plt.scatter(tweets_df.retweetCount,tweets_df['user-followersCount'])\n",
    "plt.show()\n"
   ]
  },
  {
   "cell_type": "code",
   "execution_count": 9,
   "metadata": {},
   "outputs": [
    {
     "data": {
      "text/plain": [
       "'\\nsns.boxplot(\\n    x=\"Matiere\",\\n    y=\"value\",\\n    data=note_par_matiere\\n)\\n'"
      ]
     },
     "execution_count": 9,
     "metadata": {},
     "output_type": "execute_result"
    }
   ],
   "source": [
    "\"\"\"\n",
    "sns.boxplot(\n",
    "    x=\"Matiere\",\n",
    "    y=\"value\",\n",
    "    data=note_par_matiere\n",
    ")\n",
    "\"\"\""
   ]
  },
  {
   "cell_type": "code",
   "execution_count": 10,
   "metadata": {},
   "outputs": [
    {
     "data": {
      "text/plain": [
       "<AxesSubplot:>"
      ]
     },
     "execution_count": 10,
     "metadata": {},
     "output_type": "execute_result"
    },
    {
     "data": {
      "image/png": "[encoded data removed]",
      "text/plain": [
       "<Figure size 432x288 with 2 Axes>"
      ]
     },
     "metadata": {
      "needs_background": "light"
     },
     "output_type": "display_data"
    }
   ],
   "source": [
    "corr = tweets_df.corr()\n",
    "sns.heatmap(corr,square=True)"
   ]
  },
  {
   "attachments": {},
   "cell_type": "markdown",
   "metadata": {},
   "source": [
    "## PCA"
   ]
  },
  {
   "cell_type": "code",
   "execution_count": 11,
   "metadata": {},
   "outputs": [],
   "source": [
    "from sklearn.decomposition import PCA"
   ]
  },
  {
   "cell_type": "code",
   "execution_count": 12,
   "metadata": {},
   "outputs": [],
   "source": [
    "def add_labels(x,y,labels,ax=None):\n",
    "    if ax is None:\n",
    "        ax=plt.gca()\n",
    "        for x,y,label in zip(x,y,labels):\n",
    "            ax.annotate(\n",
    "                label, [x,y], xytext=(10,-5), textcoords=\"offset points\",\n",
    "            )\n",
    "        return ax"
   ]
  },
  {
   "cell_type": "code",
   "execution_count": 13,
   "metadata": {},
   "outputs": [],
   "source": [
    "from sklearn.preprocessing import MinMaxScaler\n",
    "\n",
    "def normalisation(data):\n",
    "    scaler = MinMaxScaler(feature_range=(0,1))\n",
    "    data_norme = pd.DataFrame(scaler.fit_transform(data))\n",
    "    return data_norme\n"
   ]
  },
  {
   "cell_type": "code",
   "execution_count": 14,
   "metadata": {},
   "outputs": [
    {
     "data": {
      "text/html": [
       "<div>\n",
       "<style scoped>\n",
       "    .dataframe tbody tr th:only-of-type {\n",
       "        vertical-align: middle;\n",
       "    }\n",
       "\n",
       "    .dataframe tbody tr th {\n",
       "        vertical-align: top;\n",
       "    }\n",
       "\n",
       "    .dataframe thead th {\n",
       "        text-align: right;\n",
       "    }\n",
       "</style>\n",
       "<table border=\"1\" class=\"dataframe\">\n",
       "  <thead>\n",
       "    <tr style=\"text-align: right;\">\n",
       "      <th></th>\n",
       "      <th>0</th>\n",
       "      <th>1</th>\n",
       "      <th>2</th>\n",
       "      <th>3</th>\n",
       "      <th>4</th>\n",
       "      <th>5</th>\n",
       "      <th>6</th>\n",
       "      <th>7</th>\n",
       "      <th>8</th>\n",
       "      <th>9</th>\n",
       "      <th>10</th>\n",
       "      <th>11</th>\n",
       "      <th>12</th>\n",
       "      <th>13</th>\n",
       "      <th>14</th>\n",
       "      <th>15</th>\n",
       "    </tr>\n",
       "  </thead>\n",
       "  <tbody>\n",
       "    <tr>\n",
       "      <th>0</th>\n",
       "      <td>6.788683e-06</td>\n",
       "      <td>0.001432</td>\n",
       "      <td>0.011303</td>\n",
       "      <td>0.080166</td>\n",
       "      <td>0.000000</td>\n",
       "      <td>0.000056</td>\n",
       "      <td>0.016317</td>\n",
       "      <td>0.000000</td>\n",
       "      <td>0.000000</td>\n",
       "      <td>0.018135</td>\n",
       "      <td>0.433026</td>\n",
       "      <td>0.000000</td>\n",
       "      <td>0.049378</td>\n",
       "      <td>0.002980</td>\n",
       "      <td>0.014748</td>\n",
       "      <td>0.000000</td>\n",
       "    </tr>\n",
       "    <tr>\n",
       "      <th>1</th>\n",
       "      <td>3.125725e-05</td>\n",
       "      <td>0.003663</td>\n",
       "      <td>0.021468</td>\n",
       "      <td>0.065904</td>\n",
       "      <td>0.000548</td>\n",
       "      <td>0.009935</td>\n",
       "      <td>0.032993</td>\n",
       "      <td>0.000000</td>\n",
       "      <td>0.000000</td>\n",
       "      <td>0.032815</td>\n",
       "      <td>0.357447</td>\n",
       "      <td>0.000000</td>\n",
       "      <td>0.050297</td>\n",
       "      <td>0.005562</td>\n",
       "      <td>0.014763</td>\n",
       "      <td>0.000204</td>\n",
       "    </tr>\n",
       "    <tr>\n",
       "      <th>2</th>\n",
       "      <td>1.302385e-07</td>\n",
       "      <td>0.000178</td>\n",
       "      <td>0.000057</td>\n",
       "      <td>0.001189</td>\n",
       "      <td>0.000006</td>\n",
       "      <td>0.000008</td>\n",
       "      <td>0.033953</td>\n",
       "      <td>0.000000</td>\n",
       "      <td>0.000000</td>\n",
       "      <td>0.041451</td>\n",
       "      <td>0.492195</td>\n",
       "      <td>0.000000</td>\n",
       "      <td>0.000644</td>\n",
       "      <td>0.000106</td>\n",
       "      <td>0.001348</td>\n",
       "      <td>0.000000</td>\n",
       "    </tr>\n",
       "    <tr>\n",
       "      <th>3</th>\n",
       "      <td>1.106051e-04</td>\n",
       "      <td>0.003306</td>\n",
       "      <td>0.064547</td>\n",
       "      <td>0.089317</td>\n",
       "      <td>0.000353</td>\n",
       "      <td>0.008777</td>\n",
       "      <td>0.002639</td>\n",
       "      <td>0.000000</td>\n",
       "      <td>0.000000</td>\n",
       "      <td>0.003454</td>\n",
       "      <td>0.586141</td>\n",
       "      <td>0.000000</td>\n",
       "      <td>0.096424</td>\n",
       "      <td>0.229797</td>\n",
       "      <td>0.388891</td>\n",
       "      <td>0.000204</td>\n",
       "    </tr>\n",
       "    <tr>\n",
       "      <th>4</th>\n",
       "      <td>8.888779e-06</td>\n",
       "      <td>0.001016</td>\n",
       "      <td>0.002598</td>\n",
       "      <td>0.015785</td>\n",
       "      <td>0.000473</td>\n",
       "      <td>0.000237</td>\n",
       "      <td>0.015837</td>\n",
       "      <td>0.000000</td>\n",
       "      <td>0.000000</td>\n",
       "      <td>0.016408</td>\n",
       "      <td>0.389118</td>\n",
       "      <td>0.020408</td>\n",
       "      <td>0.010020</td>\n",
       "      <td>0.000673</td>\n",
       "      <td>0.002941</td>\n",
       "      <td>0.000000</td>\n",
       "    </tr>\n",
       "    <tr>\n",
       "      <th>...</th>\n",
       "      <td>...</td>\n",
       "      <td>...</td>\n",
       "      <td>...</td>\n",
       "      <td>...</td>\n",
       "      <td>...</td>\n",
       "      <td>...</td>\n",
       "      <td>...</td>\n",
       "      <td>...</td>\n",
       "      <td>...</td>\n",
       "      <td>...</td>\n",
       "      <td>...</td>\n",
       "      <td>...</td>\n",
       "      <td>...</td>\n",
       "      <td>...</td>\n",
       "      <td>...</td>\n",
       "      <td>...</td>\n",
       "    </tr>\n",
       "    <tr>\n",
       "      <th>23261</th>\n",
       "      <td>1.463555e-05</td>\n",
       "      <td>0.001584</td>\n",
       "      <td>0.002087</td>\n",
       "      <td>0.008081</td>\n",
       "      <td>0.000019</td>\n",
       "      <td>0.000798</td>\n",
       "      <td>0.012358</td>\n",
       "      <td>0.000000</td>\n",
       "      <td>0.000000</td>\n",
       "      <td>0.011226</td>\n",
       "      <td>0.318504</td>\n",
       "      <td>0.000000</td>\n",
       "      <td>0.005732</td>\n",
       "      <td>0.004135</td>\n",
       "      <td>0.012865</td>\n",
       "      <td>0.000000</td>\n",
       "    </tr>\n",
       "    <tr>\n",
       "      <th>23262</th>\n",
       "      <td>1.142843e-05</td>\n",
       "      <td>0.001316</td>\n",
       "      <td>0.008138</td>\n",
       "      <td>0.010415</td>\n",
       "      <td>0.000000</td>\n",
       "      <td>0.000647</td>\n",
       "      <td>0.015957</td>\n",
       "      <td>0.000000</td>\n",
       "      <td>0.000000</td>\n",
       "      <td>0.024180</td>\n",
       "      <td>0.670486</td>\n",
       "      <td>0.000000</td>\n",
       "      <td>0.011731</td>\n",
       "      <td>0.049466</td>\n",
       "      <td>0.080774</td>\n",
       "      <td>0.000000</td>\n",
       "    </tr>\n",
       "    <tr>\n",
       "      <th>23263</th>\n",
       "      <td>7.858267e-05</td>\n",
       "      <td>0.004780</td>\n",
       "      <td>0.043388</td>\n",
       "      <td>0.039483</td>\n",
       "      <td>0.000334</td>\n",
       "      <td>0.000273</td>\n",
       "      <td>0.011158</td>\n",
       "      <td>0.000000</td>\n",
       "      <td>0.000000</td>\n",
       "      <td>0.012953</td>\n",
       "      <td>0.467013</td>\n",
       "      <td>0.000000</td>\n",
       "      <td>0.054464</td>\n",
       "      <td>0.011064</td>\n",
       "      <td>0.015732</td>\n",
       "      <td>0.000000</td>\n",
       "    </tr>\n",
       "    <tr>\n",
       "      <th>23264</th>\n",
       "      <td>5.974692e-06</td>\n",
       "      <td>0.004502</td>\n",
       "      <td>0.001437</td>\n",
       "      <td>0.002237</td>\n",
       "      <td>0.000013</td>\n",
       "      <td>0.000183</td>\n",
       "      <td>0.002280</td>\n",
       "      <td>0.020833</td>\n",
       "      <td>0.282609</td>\n",
       "      <td>0.002591</td>\n",
       "      <td>0.506047</td>\n",
       "      <td>0.000000</td>\n",
       "      <td>0.002272</td>\n",
       "      <td>0.000971</td>\n",
       "      <td>0.001737</td>\n",
       "      <td>0.000409</td>\n",
       "    </tr>\n",
       "    <tr>\n",
       "      <th>23265</th>\n",
       "      <td>2.831060e-05</td>\n",
       "      <td>0.003851</td>\n",
       "      <td>0.015318</td>\n",
       "      <td>0.003063</td>\n",
       "      <td>0.000195</td>\n",
       "      <td>0.018040</td>\n",
       "      <td>0.013917</td>\n",
       "      <td>0.000000</td>\n",
       "      <td>0.000000</td>\n",
       "      <td>0.010363</td>\n",
       "      <td>0.220500</td>\n",
       "      <td>0.061224</td>\n",
       "      <td>0.013752</td>\n",
       "      <td>0.007977</td>\n",
       "      <td>0.008111</td>\n",
       "      <td>0.000000</td>\n",
       "    </tr>\n",
       "  </tbody>\n",
       "</table>\n",
       "<p>23266 rows × 16 columns</p>\n",
       "</div>"
      ],
      "text/plain": [
       "                 0         1         2         3         4         5   \\\n",
       "0      6.788683e-06  0.001432  0.011303  0.080166  0.000000  0.000056   \n",
       "1      3.125725e-05  0.003663  0.021468  0.065904  0.000548  0.009935   \n",
       "2      1.302385e-07  0.000178  0.000057  0.001189  0.000006  0.000008   \n",
       "3      1.106051e-04  0.003306  0.064547  0.089317  0.000353  0.008777   \n",
       "4      8.888779e-06  0.001016  0.002598  0.015785  0.000473  0.000237   \n",
       "...             ...       ...       ...       ...       ...       ...   \n",
       "23261  1.463555e-05  0.001584  0.002087  0.008081  0.000019  0.000798   \n",
       "23262  1.142843e-05  0.001316  0.008138  0.010415  0.000000  0.000647   \n",
       "23263  7.858267e-05  0.004780  0.043388  0.039483  0.000334  0.000273   \n",
       "23264  5.974692e-06  0.004502  0.001437  0.002237  0.000013  0.000183   \n",
       "23265  2.831060e-05  0.003851  0.015318  0.003063  0.000195  0.018040   \n",
       "\n",
       "             6         7         8         9         10        11        12  \\\n",
       "0      0.016317  0.000000  0.000000  0.018135  0.433026  0.000000  0.049378   \n",
       "1      0.032993  0.000000  0.000000  0.032815  0.357447  0.000000  0.050297   \n",
       "2      0.033953  0.000000  0.000000  0.041451  0.492195  0.000000  0.000644   \n",
       "3      0.002639  0.000000  0.000000  0.003454  0.586141  0.000000  0.096424   \n",
       "4      0.015837  0.000000  0.000000  0.016408  0.389118  0.020408  0.010020   \n",
       "...         ...       ...       ...       ...       ...       ...       ...   \n",
       "23261  0.012358  0.000000  0.000000  0.011226  0.318504  0.000000  0.005732   \n",
       "23262  0.015957  0.000000  0.000000  0.024180  0.670486  0.000000  0.011731   \n",
       "23263  0.011158  0.000000  0.000000  0.012953  0.467013  0.000000  0.054464   \n",
       "23264  0.002280  0.020833  0.282609  0.002591  0.506047  0.000000  0.002272   \n",
       "23265  0.013917  0.000000  0.000000  0.010363  0.220500  0.061224  0.013752   \n",
       "\n",
       "             13        14        15  \n",
       "0      0.002980  0.014748  0.000000  \n",
       "1      0.005562  0.014763  0.000204  \n",
       "2      0.000106  0.001348  0.000000  \n",
       "3      0.229797  0.388891  0.000204  \n",
       "4      0.000673  0.002941  0.000000  \n",
       "...         ...       ...       ...  \n",
       "23261  0.004135  0.012865  0.000000  \n",
       "23262  0.049466  0.080774  0.000000  \n",
       "23263  0.011064  0.015732  0.000000  \n",
       "23264  0.000971  0.001737  0.000409  \n",
       "23265  0.007977  0.008111  0.000000  \n",
       "\n",
       "[23266 rows x 16 columns]"
      ]
     },
     "execution_count": 14,
     "metadata": {},
     "output_type": "execute_result"
    }
   ],
   "source": [
    "tweets_df = normalisation(tweets_df)\n",
    "tweets_df"
   ]
  },
  {
   "cell_type": "code",
   "execution_count": 15,
   "metadata": {},
   "outputs": [
    {
     "name": "stdout",
     "output_type": "stream",
     "text": [
      "[[ 4.12036300e-03  2.85211523e-02  2.89481646e-01  4.90278448e-01\n",
      "   4.86307022e-03  7.07544019e-02  4.91196960e-03 -1.44259632e-02\n",
      "  -2.16127590e-02  2.46288121e-02  5.10690005e-01 -1.73869596e-01\n",
      "   4.77615805e-01  1.73452068e-01  3.45574951e-01  1.33609171e-03]\n",
      " [ 4.09356566e-03  1.41344966e-02  2.01075027e-01  2.86676069e-01\n",
      "   4.10237643e-03  6.75457073e-02 -1.10167860e-02  1.66718210e-02\n",
      "   3.88539335e-02 -4.28883632e-02 -8.15151432e-01  1.99027269e-01\n",
      "   3.04625301e-01  1.30944313e-01  2.34114338e-01 -2.30013151e-03]\n",
      " [-7.10994365e-04 -2.54347052e-02 -7.25262015e-02 -4.08655166e-01\n",
      "  -3.34448878e-03  2.16236761e-02 -3.32319831e-03  4.01470170e-02\n",
      "   6.90056484e-02 -2.04911356e-03 -1.60560101e-02 -1.68068588e-01\n",
      "  -2.63589588e-01  4.40125622e-01  7.27001381e-01 -1.18232255e-04]\n",
      " [ 5.05579445e-03 -4.31031690e-03  1.08438438e-01 -1.35225181e-01\n",
      "   1.88901162e-03  6.91629023e-02  1.25433039e-01  4.55049991e-02\n",
      "   7.14470825e-03  1.40027627e-01  2.51265675e-01  9.18613831e-01\n",
      "   1.83365582e-02  1.12987059e-01  8.65485932e-02 -9.07365043e-03]\n",
      " [ 5.93851527e-02  5.69271490e-03  5.44937973e-01 -4.82704458e-01\n",
      "   9.95607130e-02  3.63645867e-01  7.92970478e-02 -1.93390793e-01\n",
      "  -3.55702229e-01  8.71504779e-02 -4.44449783e-02 -1.62157799e-01\n",
      "   1.91270766e-01  1.50290952e-01 -2.42123006e-01  2.13569627e-02]]\n"
     ]
    }
   ],
   "source": [
    "cls = PCA(n_components=5)\n",
    "pcs = cls.fit_transform(tweets_df)\n",
    "print(cls.components_)\n"
   ]
  },
  {
   "cell_type": "code",
   "execution_count": 16,
   "metadata": {},
   "outputs": [
    {
     "data": {
      "text/plain": [
       "<BarContainer object of 5 artists>"
      ]
     },
     "execution_count": 16,
     "metadata": {},
     "output_type": "execute_result"
    },
    {
     "data": {
      "image/png": "[encoded data removed]",
      "text/plain": [
       "<Figure size 432x288 with 1 Axes>"
      ]
     },
     "metadata": {
      "needs_background": "light"
     },
     "output_type": "display_data"
    }
   ],
   "source": [
    "plt.bar([\"Axe 1\",\"Axe 2\",\"Axe 3\",\"Axe 4\",\"Axe 5\"], cls.explained_variance_ratio_)"
   ]
  },
  {
   "cell_type": "code",
   "execution_count": 17,
   "metadata": {},
   "outputs": [],
   "source": [
    "tweets_df_index = tweets_df"
   ]
  },
  {
   "cell_type": "code",
   "execution_count": 18,
   "metadata": {},
   "outputs": [],
   "source": [
    "tweets_df = tweets_df.to_numpy()"
   ]
  },
  {
   "cell_type": "code",
   "execution_count": 19,
   "metadata": {},
   "outputs": [],
   "source": [
    "n,p = tweets_df.shape\n",
    "M = np.eye(p)\n",
    "Dp = 1/n * np.eye(n)"
   ]
  },
  {
   "cell_type": "code",
   "execution_count": 20,
   "metadata": {},
   "outputs": [],
   "source": [
    "mean = tweets_df.mean(axis=0)\n",
    "tweets_df = tweets_df - mean"
   ]
  },
  {
   "cell_type": "code",
   "execution_count": 21,
   "metadata": {},
   "outputs": [],
   "source": [
    "V = tweets_df.T @ Dp @ tweets_df"
   ]
  },
  {
   "cell_type": "code",
   "execution_count": 22,
   "metadata": {},
   "outputs": [],
   "source": [
    "import scipy.linalg as linalg\n",
    "valp, vecp = linalg.eigh(V @ M)\n",
    "valp = valp[::-1] # Ordre décroissant\n",
    "vecp = vecp[:, ::-1]"
   ]
  },
  {
   "cell_type": "code",
   "execution_count": 23,
   "metadata": {},
   "outputs": [],
   "source": [
    "C = tweets_df @ M @ vecp"
   ]
  },
  {
   "cell_type": "code",
   "execution_count": 24,
   "metadata": {},
   "outputs": [
    {
     "data": {
      "text/plain": [
       "array([104.1284661 ,  55.17060465,  21.54184119,  14.64059337,\n",
       "        65.35120434,  37.26017551,  44.05907047,  38.83607703,\n",
       "        26.57264003,  38.95796822,  10.15432676,  18.4802157 ,\n",
       "        16.09761651,  27.84784181,  16.46552605,  34.95013889])"
      ]
     },
     "execution_count": 24,
     "metadata": {},
     "output_type": "execute_result"
    }
   ],
   "source": [
    "inverseDesEcartType = np.zeros(p)\n",
    "for i in range(p):\n",
    "    inverseDesEcartType[i]=1/tweets_df[:,i].std()\n",
    "inverseDesEcartType\n"
   ]
  },
  {
   "cell_type": "code",
   "execution_count": 25,
   "metadata": {},
   "outputs": [
    {
     "data": {
      "text/plain": [
       "array([[-0.09359885, -0.1674981 , -0.24330216, ..., -0.48157942,\n",
       "        -0.41814774, -0.15472424],\n",
       "       [-0.09105097, -0.04441852, -0.0243376 , ..., -0.40966387,\n",
       "        -0.41789942, -0.14757698],\n",
       "       [-0.09429218, -0.23673036, -0.48556743, ..., -0.56162022,\n",
       "        -0.63877368, -0.15472424],\n",
       "       ...,\n",
       "       [-0.08612305,  0.01721285,  0.44785997, ..., -0.2564547 ,\n",
       "        -0.40193857, -0.15472424],\n",
       "       [-0.09368361,  0.0018279 , -0.45584212, ..., -0.53752555,\n",
       "        -0.63236818, -0.14042971],\n",
       "       [-0.0913578 , -0.03407031, -0.15681081, ..., -0.34242984,\n",
       "        -0.52743105, -0.15472424]])"
      ]
     },
     "execution_count": 25,
     "metadata": {},
     "output_type": "execute_result"
    }
   ],
   "source": [
    "data_reduction = tweets_df * inverseDesEcartType\n",
    "data_reduction"
   ]
  },
  {
   "cell_type": "code",
   "execution_count": 26,
   "metadata": {},
   "outputs": [],
   "source": [
    "from math import sqrt"
   ]
  },
  {
   "cell_type": "code",
   "execution_count": 27,
   "metadata": {},
   "outputs": [
    {
     "data": {
      "text/plain": [
       "array([9.28913293e+00, 1.01027140e+01, 1.85123004e+01, 2.04643984e+01,\n",
       "       2.24887373e+01, 2.38607655e+01, 2.99598680e+01, 3.49074493e+01,\n",
       "       4.93309759e+01, 5.66122543e+01, 6.40638712e+01, 6.80561405e+01,\n",
       "       7.94592576e+01, 1.96804484e+02, 5.67836125e+02, 6.07400100e+09])"
      ]
     },
     "execution_count": 27,
     "metadata": {},
     "output_type": "execute_result"
    }
   ],
   "source": [
    "termeAvecLambda = np.zeros(p)\n",
    "for i in range(p):\n",
    "    termeAvecLambda[i] = sqrt(valp[i])\n",
    "termeAvecLambda= 1/termeAvecLambda\n",
    "termeAvecLambda"
   ]
  },
  {
   "cell_type": "code",
   "execution_count": 28,
   "metadata": {},
   "outputs": [],
   "source": [
    "composantesPrincipalesNormees = C * termeAvecLambda"
   ]
  },
  {
   "cell_type": "code",
   "execution_count": 29,
   "metadata": {},
   "outputs": [
    {
     "data": {
      "text/plain": [
       "array([[-4.61880653e-02, -4.21922975e-02, -3.99921949e-03,\n",
       "         2.57252674e-02,  2.74968077e-01,  1.23079814e-01,\n",
       "         2.38245486e-02, -1.48145788e-01, -5.33305442e-01,\n",
       "         1.09594863e-01, -6.75890870e-02,  6.05144152e-01,\n",
       "        -9.43103208e-03,  4.63524432e-01, -7.21680527e-04,\n",
       "         1.76572147e-08],\n",
       "       [-1.69394628e-01, -7.71880435e-02, -7.58008477e-02,\n",
       "        -1.16203166e-02,  1.39656806e-02,  9.07414632e-03,\n",
       "        -4.12184437e-02, -8.77709369e-02,  1.64302006e-01,\n",
       "         9.59149694e-01, -1.30000297e-02, -4.86348775e-02,\n",
       "         1.69916138e-02, -4.73238013e-04, -1.13822936e-04,\n",
       "         1.18668266e-07],\n",
       "       [-6.71318593e-01, -4.28748781e-01, -8.43951254e-02,\n",
       "         1.14147681e-01,  5.21993169e-01,  2.14328143e-01,\n",
       "         7.98296801e-02,  1.09317601e-02,  1.18959554e-01,\n",
       "        -1.63145054e-02,  3.20321133e-03,  2.09615473e-02,\n",
       "        -7.47037274e-02,  2.56131846e-04,  1.59936651e-06,\n",
       "        -1.80813946e-08],\n",
       "       [-7.72727384e-01, -4.15443589e-01, -3.23188042e-01,\n",
       "        -9.67424917e-02, -3.14249732e-01, -1.04547037e-01,\n",
       "        -4.89189743e-02, -3.21086859e-03, -4.90108046e-02,\n",
       "        -3.00260609e-03, -3.16753641e-03, -4.80223108e-03,\n",
       "         4.42591513e-02, -6.15948198e-06,  8.32487062e-06,\n",
       "         1.01277654e-07],\n",
       "       [-3.42128268e-02, -2.65369525e-02, -1.18065484e-02,\n",
       "         6.03238767e-03,  2.89318711e-01,  1.34407795e-01,\n",
       "         2.19773399e-03, -2.26082996e-01, -5.24973973e-01,\n",
       "         1.09724106e-01, -8.06994006e-02,  7.24843234e-01,\n",
       "         7.87370330e-03, -1.59534087e-01,  2.94406152e-04,\n",
       "         7.90749836e-08],\n",
       "       [-2.83807052e-01, -2.49117704e-01,  4.35225202e-02,\n",
       "         1.25927077e-01,  6.02501982e-01,  2.88313881e-01,\n",
       "         1.64989180e-02, -1.02251460e-02, -5.61300934e-01,\n",
       "         4.78408850e-02,  1.92047992e-02, -2.63079872e-01,\n",
       "         7.85400788e-02, -5.99188440e-03,  9.24190594e-05,\n",
       "         3.64934735e-08],\n",
       "       [-2.32978488e-02,  4.80454412e-02, -7.90917527e-03,\n",
       "         2.70052557e-01,  1.55355730e-01,  1.80376316e-02,\n",
       "        -9.33611555e-01,  1.42554220e-01,  1.84485917e-02,\n",
       "        -6.81763583e-03,  6.03235078e-02,  1.96514085e-02,\n",
       "        -2.19172292e-03, -3.08469914e-04, -5.76894627e-02,\n",
       "        -1.39779273e-08],\n",
       "       [ 6.03121758e-02, -6.40885335e-02,  8.42225230e-02,\n",
       "         8.63565893e-02, -3.33968939e-01,  7.58381971e-01,\n",
       "        -1.53396186e-01,  2.76126545e-02,  1.76012543e-02,\n",
       "        -1.39657058e-02, -5.13780278e-01, -4.22304606e-02,\n",
       "        -2.17794178e-02,  1.63650146e-04, -3.04056980e-04,\n",
       "         1.98840833e-09],\n",
       "       [ 6.18257990e-02, -1.02195469e-01,  9.90510211e-02,\n",
       "         9.27727053e-03, -4.20296931e-01,  8.68173881e-01,\n",
       "         3.48122014e-02,  4.89864194e-03,  8.15092815e-03,\n",
       "         4.95629465e-03,  2.08795210e-01,  2.23075247e-02,\n",
       "         6.41172659e-03,  1.24145289e-04,  8.69521435e-05,\n",
       "         1.55484292e-09],\n",
       "       [-1.03291500e-01,  1.65385608e-01, -4.31223021e-03,\n",
       "         2.66569861e-01,  1.50973596e-01,  2.17376803e-02,\n",
       "        -9.18173200e-01,  1.36653381e-01,  1.96670482e-02,\n",
       "        -5.93700486e-03,  5.50618158e-02,  1.88284499e-02,\n",
       "        -2.66723695e-03,  1.10448493e-03,  4.58472005e-02,\n",
       "         2.05961061e-08],\n",
       "       [-5.58255891e-01,  8.19315881e-01, -8.80700776e-03,\n",
       "         1.24676705e-01, -2.00682157e-02,  1.23158919e-02,\n",
       "         2.94755086e-02, -4.49827473e-03, -2.37958386e-03,\n",
       "         3.52086052e-05,  2.37141583e-04, -6.84537055e-04,\n",
       "         4.27648704e-04, -4.20377257e-05, -4.18498025e-04,\n",
       "        -9.29317532e-09],\n",
       "       [ 3.45903936e-01, -3.64067207e-01, -1.67777299e-01,\n",
       "         8.29547069e-01, -1.33253862e-01, -7.42161248e-02,\n",
       "         8.75750697e-02, -2.23835324e-02, -7.48235232e-03,\n",
       "         2.44198022e-03,  2.96412077e-03,  1.43815586e-03,\n",
       "         5.80385479e-05, -2.93264809e-04,  2.02252754e-04,\n",
       "        -1.04246445e-08],\n",
       "       [-8.27685008e-01, -4.85388510e-01, -2.29207825e-01,\n",
       "         1.44238241e-02,  1.36913131e-01,  6.97713119e-02,\n",
       "         2.04622958e-02,  4.73330841e-03,  4.37176672e-02,\n",
       "        -1.13795798e-02,  1.54085306e-04,  9.82607090e-03,\n",
       "        -1.99892445e-02,  1.49144806e-04,  5.56187308e-06,\n",
       "         4.53053972e-08],\n",
       "       [-5.19991024e-01, -3.60944250e-01,  6.62075940e-01,\n",
       "         1.53752174e-01,  1.86105542e-01,  2.61501752e-02,\n",
       "         3.80223602e-02,  3.11739707e-03,  1.34450370e-01,\n",
       "        -2.19870171e-02, -1.96506756e-02,  4.29848449e-02,\n",
       "         2.82436624e-01,  2.27067033e-03,  3.62799503e-06,\n",
       "         5.23619195e-08],\n",
       "       [-6.12551612e-01, -3.81562395e-01,  6.46621972e-01,\n",
       "         6.96364529e-02, -1.77274633e-01, -1.20358962e-01,\n",
       "        -1.35665272e-02, -6.99838682e-03, -4.78828072e-02,\n",
       "         1.05554984e-02,  5.37793386e-03, -9.29550901e-03,\n",
       "        -8.69230087e-02, -8.53294617e-04, -1.12922593e-05,\n",
       "         1.52358504e-07],\n",
       "       [-5.02701288e-03,  7.95725939e-03, -2.23215572e-04,\n",
       "        -1.54964410e-02,  3.31912281e-02,  3.43664567e-02,\n",
       "        -1.96296436e-01, -9.75166255e-01,  5.59715984e-02,\n",
       "        -4.71516874e-02,  8.21981561e-03, -4.97110623e-02,\n",
       "        -1.93278026e-03,  2.89552136e-03, -1.39345167e-04,\n",
       "         1.19744228e-08]])"
      ]
     },
     "execution_count": 29,
     "metadata": {},
     "output_type": "execute_result"
    }
   ],
   "source": [
    "cov = data_reduction.T @ Dp @ composantesPrincipalesNormees\n",
    "cov"
   ]
  },
  {
   "cell_type": "code",
   "execution_count": 30,
   "metadata": {},
   "outputs": [],
   "source": [
    "def add_labels(x_list,y_list,labels):\n",
    "    for x,y,label in zip(x_list,y_list,labels):\n",
    "        plt.text(x+0.05,y-0.05,label)"
   ]
  },
  {
   "cell_type": "code",
   "execution_count": 31,
   "metadata": {},
   "outputs": [
    {
     "name": "stderr",
     "output_type": "stream",
     "text": [
      "C:\\Users\\louis\\AppData\\Local\\Packages\\PythonSoftwareFoundation.Python.3.10_qbz5n2kfra8p0\\LocalCache\\local-packages\\Python310\\site-packages\\seaborn\\_decorators.py:36: FutureWarning: Pass the following variables as keyword args: x, y. From version 0.12, the only valid positional argument will be `data`, and passing other arguments without an explicit keyword will result in an error or misinterpretation.\n",
      "  warnings.warn(\n"
     ]
    },
    {
     "data": {
      "image/png": "[encoded data removed]",
      "text/plain": [
       "<Figure size 432x288 with 1 Axes>"
      ]
     },
     "metadata": {
      "needs_background": "light"
     },
     "output_type": "display_data"
    }
   ],
   "source": [
    "sns.scatterplot(cov[:,0],cov[:,1])\n",
    "add_labels(cov[:,0],cov[:,1], tweets_df_index.head())"
   ]
  },
  {
   "attachments": {},
   "cell_type": "markdown",
   "metadata": {},
   "source": [
    " 0   user-followersCount \n",
    " 1   user-friendsCount   \n",
    " 2   user-statusesCount  \n",
    " 3   user-favouritesCount\n",
    " 4   user-listedCount    \n",
    " 5   user-mediaCount     \n",
    " 6   retweetCount "
   ]
  },
  {
   "cell_type": "code",
   "execution_count": 32,
   "metadata": {},
   "outputs": [
    {
     "data": {
      "text/html": [
       "<div>\n",
       "<style scoped>\n",
       "    .dataframe tbody tr th:only-of-type {\n",
       "        vertical-align: middle;\n",
       "    }\n",
       "\n",
       "    .dataframe tbody tr th {\n",
       "        vertical-align: top;\n",
       "    }\n",
       "\n",
       "    .dataframe thead th {\n",
       "        text-align: right;\n",
       "    }\n",
       "</style>\n",
       "<table border=\"1\" class=\"dataframe\">\n",
       "  <thead>\n",
       "    <tr style=\"text-align: right;\">\n",
       "      <th></th>\n",
       "      <th>0</th>\n",
       "      <th>1</th>\n",
       "      <th>2</th>\n",
       "      <th>3</th>\n",
       "      <th>4</th>\n",
       "      <th>5</th>\n",
       "      <th>6</th>\n",
       "      <th>7</th>\n",
       "      <th>8</th>\n",
       "      <th>9</th>\n",
       "      <th>10</th>\n",
       "      <th>11</th>\n",
       "      <th>12</th>\n",
       "      <th>13</th>\n",
       "      <th>14</th>\n",
       "      <th>15</th>\n",
       "    </tr>\n",
       "  </thead>\n",
       "  <tbody>\n",
       "    <tr>\n",
       "      <th>0</th>\n",
       "      <td>6.788683e-06</td>\n",
       "      <td>0.001432</td>\n",
       "      <td>0.011303</td>\n",
       "      <td>0.080166</td>\n",
       "      <td>0.000000</td>\n",
       "      <td>0.000056</td>\n",
       "      <td>0.016317</td>\n",
       "      <td>0.0</td>\n",
       "      <td>0.0</td>\n",
       "      <td>0.018135</td>\n",
       "      <td>0.433026</td>\n",
       "      <td>0.000000</td>\n",
       "      <td>0.049378</td>\n",
       "      <td>0.002980</td>\n",
       "      <td>0.014748</td>\n",
       "      <td>0.000000</td>\n",
       "    </tr>\n",
       "    <tr>\n",
       "      <th>1</th>\n",
       "      <td>3.125725e-05</td>\n",
       "      <td>0.003663</td>\n",
       "      <td>0.021468</td>\n",
       "      <td>0.065904</td>\n",
       "      <td>0.000548</td>\n",
       "      <td>0.009935</td>\n",
       "      <td>0.032993</td>\n",
       "      <td>0.0</td>\n",
       "      <td>0.0</td>\n",
       "      <td>0.032815</td>\n",
       "      <td>0.357447</td>\n",
       "      <td>0.000000</td>\n",
       "      <td>0.050297</td>\n",
       "      <td>0.005562</td>\n",
       "      <td>0.014763</td>\n",
       "      <td>0.000204</td>\n",
       "    </tr>\n",
       "    <tr>\n",
       "      <th>2</th>\n",
       "      <td>1.302385e-07</td>\n",
       "      <td>0.000178</td>\n",
       "      <td>0.000057</td>\n",
       "      <td>0.001189</td>\n",
       "      <td>0.000006</td>\n",
       "      <td>0.000008</td>\n",
       "      <td>0.033953</td>\n",
       "      <td>0.0</td>\n",
       "      <td>0.0</td>\n",
       "      <td>0.041451</td>\n",
       "      <td>0.492195</td>\n",
       "      <td>0.000000</td>\n",
       "      <td>0.000644</td>\n",
       "      <td>0.000106</td>\n",
       "      <td>0.001348</td>\n",
       "      <td>0.000000</td>\n",
       "    </tr>\n",
       "    <tr>\n",
       "      <th>3</th>\n",
       "      <td>1.106051e-04</td>\n",
       "      <td>0.003306</td>\n",
       "      <td>0.064547</td>\n",
       "      <td>0.089317</td>\n",
       "      <td>0.000353</td>\n",
       "      <td>0.008777</td>\n",
       "      <td>0.002639</td>\n",
       "      <td>0.0</td>\n",
       "      <td>0.0</td>\n",
       "      <td>0.003454</td>\n",
       "      <td>0.586141</td>\n",
       "      <td>0.000000</td>\n",
       "      <td>0.096424</td>\n",
       "      <td>0.229797</td>\n",
       "      <td>0.388891</td>\n",
       "      <td>0.000204</td>\n",
       "    </tr>\n",
       "    <tr>\n",
       "      <th>4</th>\n",
       "      <td>8.888779e-06</td>\n",
       "      <td>0.001016</td>\n",
       "      <td>0.002598</td>\n",
       "      <td>0.015785</td>\n",
       "      <td>0.000473</td>\n",
       "      <td>0.000237</td>\n",
       "      <td>0.015837</td>\n",
       "      <td>0.0</td>\n",
       "      <td>0.0</td>\n",
       "      <td>0.016408</td>\n",
       "      <td>0.389118</td>\n",
       "      <td>0.020408</td>\n",
       "      <td>0.010020</td>\n",
       "      <td>0.000673</td>\n",
       "      <td>0.002941</td>\n",
       "      <td>0.000000</td>\n",
       "    </tr>\n",
       "  </tbody>\n",
       "</table>\n",
       "</div>"
      ],
      "text/plain": [
       "             0         1         2         3         4         5         6   \\\n",
       "0  6.788683e-06  0.001432  0.011303  0.080166  0.000000  0.000056  0.016317   \n",
       "1  3.125725e-05  0.003663  0.021468  0.065904  0.000548  0.009935  0.032993   \n",
       "2  1.302385e-07  0.000178  0.000057  0.001189  0.000006  0.000008  0.033953   \n",
       "3  1.106051e-04  0.003306  0.064547  0.089317  0.000353  0.008777  0.002639   \n",
       "4  8.888779e-06  0.001016  0.002598  0.015785  0.000473  0.000237  0.015837   \n",
       "\n",
       "    7    8         9         10        11        12        13        14  \\\n",
       "0  0.0  0.0  0.018135  0.433026  0.000000  0.049378  0.002980  0.014748   \n",
       "1  0.0  0.0  0.032815  0.357447  0.000000  0.050297  0.005562  0.014763   \n",
       "2  0.0  0.0  0.041451  0.492195  0.000000  0.000644  0.000106  0.001348   \n",
       "3  0.0  0.0  0.003454  0.586141  0.000000  0.096424  0.229797  0.388891   \n",
       "4  0.0  0.0  0.016408  0.389118  0.020408  0.010020  0.000673  0.002941   \n",
       "\n",
       "         15  \n",
       "0  0.000000  \n",
       "1  0.000204  \n",
       "2  0.000000  \n",
       "3  0.000204  \n",
       "4  0.000000  "
      ]
     },
     "execution_count": 32,
     "metadata": {},
     "output_type": "execute_result"
    }
   ],
   "source": [
    "tweets_df_index.head()"
   ]
  }
 ],
 "metadata": {
  "kernelspec": {
   "display_name": "Python 3",
   "language": "python",
   "name": "python3"
  },
  "language_info": {
   "codemirror_mode": {
    "name": "ipython",
    "version": 3
   },
   "file_extension": ".py",
   "mimetype": "text/x-python",
   "name": "python",
   "nbconvert_exporter": "python",
   "pygments_lexer": "ipython3",
   "version": "3.10.11"
  },
  "orig_nbformat": 4
 },
 "nbformat": 4,
 "nbformat_minor": 2
}
